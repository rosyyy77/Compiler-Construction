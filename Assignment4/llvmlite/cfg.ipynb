{
 "cells": [
  {
   "cell_type": "code",
   "execution_count": 2,
   "metadata": {},
   "outputs": [],
   "source": [
    "from llvmlite import ir"
   ]
  },
  {
   "cell_type": "code",
   "execution_count": 3,
   "metadata": {},
   "outputs": [],
   "source": [
    "m = ir.Module()"
   ]
  },
  {
   "cell_type": "code",
   "execution_count": 4,
   "metadata": {},
   "outputs": [
    {
     "name": "stdout",
     "output_type": "stream",
     "text": [
      "i32 (i32)\n"
     ]
    }
   ],
   "source": [
    "fnty = ir.FunctionType(ir.IntType(32), [ir.IntType(32)])\n",
    "print(fnty)"
   ]
  },
  {
   "cell_type": "code",
   "execution_count": 5,
   "metadata": {},
   "outputs": [
    {
     "name": "stdout",
     "output_type": "stream",
     "text": [
      "declare i32 @\"count_number\"(i32 %\"N\") \n",
      "\n"
     ]
    }
   ],
   "source": [
    "fn = ir.Function(m, fnty, \"count_number\")\n",
    "fn.args[0].name= 'N'\n",
    "print(fn)"
   ]
  },
  {
   "cell_type": "code",
   "execution_count": 6,
   "metadata": {},
   "outputs": [],
   "source": [
    "builder = ir.IRBuilder(fn.append_basic_block('entry'))"
   ]
  },
  {
   "cell_type": "code",
   "execution_count": 7,
   "metadata": {},
   "outputs": [
    {
     "name": "stdout",
     "output_type": "stream",
     "text": [
      "define i32 @\"count_number\"(i32 %\"N\") \n",
      "{\n",
      "entry:\n",
      "  %\"out\" = alloca i32\n",
      "  %\"ct\" = alloca i32\n",
      "  store i32 0, i32* %\"out\"\n",
      "  store i32 0, i32* %\"ct\"\n",
      "}\n",
      "\n"
     ]
    }
   ],
   "source": [
    "out = builder.alloca(ir.IntType(32), name='out')\n",
    "ct = builder.alloca(ir.IntType(32), name='ct')\n",
    "builder.store(out.type.pointee(0), out)\n",
    "builder.store(ct.type.pointee(0), ct)\n",
    "print(fn)"
   ]
  },
  {
   "cell_type": "code",
   "execution_count": 8,
   "metadata": {},
   "outputs": [
    {
     "name": "stdout",
     "output_type": "stream",
     "text": [
      "define i32 @\"count_number\"(i32 %\"N\") \n",
      "{\n",
      "entry:\n",
      "  %\"out\" = alloca i32\n",
      "  %\"ct\" = alloca i32\n",
      "  store i32 0, i32* %\"out\"\n",
      "  store i32 0, i32* %\"ct\"\n",
      "  br label %\"loop.header\"\n",
      "loop.header:\n",
      "  %\".6\" = load i32, i32* %\"ct\"\n",
      "  %\".7\" = icmp slt i32 %\".6\", %\"N\"\n",
      "  br i1 %\".7\", label %\"loop.body\", label %\"loop.end\"\n",
      "loop.body:\n",
      "loop.end:\n",
      "}\n",
      "\n"
     ]
    }
   ],
   "source": [
    "loophead = fn.append_basic_block('loop.header')\n",
    "loopbody = fn.append_basic_block('loop.body')\n",
    "loopend = fn.append_basic_block('loop.end')\n",
    "\n",
    "builder.branch(loophead)\n",
    "builder.position_at_end(loophead)\n",
    "\n",
    "# loop if ct < arg0\n",
    "arg0 = fn.args[0]\n",
    "pred = builder.icmp_signed('<', builder.load(ct), arg0)\n",
    "builder.cbranch(pred, loopbody, loopend)\n",
    "\n",
    "print(fn)"
   ]
  },
  {
   "cell_type": "code",
   "execution_count": 9,
   "metadata": {},
   "outputs": [
    {
     "name": "stdout",
     "output_type": "stream",
     "text": [
      "define i32 @\"count_number\"(i32 %\"N\") \n",
      "{\n",
      "entry:\n",
      "  %\"out\" = alloca i32\n",
      "  %\"ct\" = alloca i32\n",
      "  store i32 0, i32* %\"out\"\n",
      "  store i32 0, i32* %\"ct\"\n",
      "  br label %\"loop.header\"\n",
      "loop.header:\n",
      "  %\".6\" = load i32, i32* %\"ct\"\n",
      "  %\".7\" = icmp slt i32 %\".6\", %\"N\"\n",
      "  br i1 %\".7\", label %\"loop.body\", label %\"loop.end\"\n",
      "loop.body:\n",
      "  %\".9\" = load i32, i32* %\"out\"\n",
      "  %\".10\" = load i32, i32* %\"ct\"\n",
      "  %\".11\" = add i32 %\".9\", %\".10\"\n",
      "  store i32 %\".11\", i32* %\"out\"\n",
      "  %\".13\" = load i32, i32* %\"ct\"\n",
      "  %\".14\" = add i32 %\".13\", 1\n",
      "  store i32 %\".14\", i32* %\"ct\"\n",
      "  br label %\"loop.header\"\n",
      "loop.end:\n",
      "}\n",
      "\n"
     ]
    }
   ],
   "source": [
    "builder.position_at_end(loopbody)\n",
    "\n",
    "# out += ct\n",
    "builder.store(builder.add(builder.load(out), builder.load(ct)), out)\n",
    "# ct += 1\n",
    "builder.store(builder.add(builder.load(ct), ct.type.pointee(1)), ct)\n",
    "# jump to loophead\n",
    "builder.branch(loophead)\n",
    "\n",
    "print(fn)"
   ]
  },
  {
   "cell_type": "code",
   "execution_count": 10,
   "metadata": {},
   "outputs": [
    {
     "name": "stdout",
     "output_type": "stream",
     "text": [
      "define i32 @\"count_number\"(i32 %\"N\") \n",
      "{\n",
      "entry:\n",
      "  %\"out\" = alloca i32\n",
      "  %\"ct\" = alloca i32\n",
      "  store i32 0, i32* %\"out\"\n",
      "  store i32 0, i32* %\"ct\"\n",
      "  br label %\"loop.header\"\n",
      "loop.header:\n",
      "  %\".6\" = load i32, i32* %\"ct\"\n",
      "  %\".7\" = icmp slt i32 %\".6\", %\"N\"\n",
      "  br i1 %\".7\", label %\"loop.body\", label %\"loop.end\"\n",
      "loop.body:\n",
      "  %\".9\" = load i32, i32* %\"out\"\n",
      "  %\".10\" = load i32, i32* %\"ct\"\n",
      "  %\".11\" = add i32 %\".9\", %\".10\"\n",
      "  store i32 %\".11\", i32* %\"out\"\n",
      "  %\".13\" = load i32, i32* %\"ct\"\n",
      "  %\".14\" = add i32 %\".13\", 1\n",
      "  store i32 %\".14\", i32* %\"ct\"\n",
      "  br label %\"loop.header\"\n",
      "loop.end:\n",
      "  %\".17\" = load i32, i32* %\"out\"\n",
      "  ret i32 %\".17\"\n",
      "}\n",
      "\n"
     ]
    }
   ],
   "source": [
    "builder.position_at_end(loopend)\n",
    "\n",
    "builder.ret(builder.load(out))\n",
    "\n",
    "print(fn)"
   ]
  },
  {
   "cell_type": "markdown",
   "metadata": {},
   "source": [
    "## Visualize Control-Flow Graph"
   ]
  },
  {
   "cell_type": "code",
   "execution_count": 16,
   "metadata": {},
   "outputs": [
    {
     "name": "stdout",
     "output_type": "stream",
     "text": [
      "cascadelake\n",
      "{'sse2': True, 'cx16': True, 'sahf': True, 'tbm': False, 'avx512ifma': False, 'sha': False, 'gfni': False, 'fma4': False, 'vpclmulqdq': False, 'prfchw': True, 'bmi2': True, 'cldemote': False, 'fsgsbase': True, 'ptwrite': False, 'xsavec': True, 'popcnt': True, 'aes': True, 'avx512bitalg': False, 'movdiri': False, 'xsaves': True, 'avx512er': False, 'avx512vnni': True, 'avx512vpopcntdq': False, 'pconfig': False, 'clwb': True, 'avx512f': True, 'clzero': False, 'pku': True, 'mmx': True, 'lwp': False, 'rdpid': False, 'xop': False, 'rdseed': True, 'waitpkg': False, 'movdir64b': False, 'sse4a': False, 'avx512bw': True, 'clflushopt': True, 'xsave': True, 'avx512vbmi2': False, '64bit': True, 'avx512vl': True, 'invpcid': True, 'avx512cd': True, 'avx': True, 'vaes': False, 'cx8': True, 'fma': True, 'rtm': True, 'bmi': True, 'enqcmd': False, 'rdrnd': True, 'mwaitx': False, 'sse4.1': True, 'sse4.2': True, 'avx2': True, 'fxsr': True, 'wbnoinvd': False, 'sse': True, 'lzcnt': True, 'pclmul': True, 'prefetchwt1': False, 'f16c': True, 'ssse3': True, 'sgx': False, 'shstk': False, 'cmov': True, 'avx512vbmi': False, 'avx512bf16': False, 'movbe': True, 'xsaveopt': True, 'avx512dq': True, 'adx': True, 'avx512pf': False, 'sse3': True}\n"
     ]
    }
   ],
   "source": [
    "from llvmlite import binding as llvm\n",
    "\n",
    "dot = llvm.get_function_cfg(fn)\n",
    "llvm.view_dot_graph(dot)\n",
    "print(llvm.get_host_cpu_name())\n",
    "print(llvm.get_host_cpu_features())"
   ]
  },
  {
   "cell_type": "markdown",
   "metadata": {},
   "source": [
    "## Optimize function"
   ]
  },
  {
   "cell_type": "code",
   "execution_count": 13,
   "metadata": {},
   "outputs": [
    {
     "name": "stdout",
     "output_type": "stream",
     "text": [
      "; ModuleID = '<string>'\n",
      "source_filename = \"<string>\"\n",
      "target triple = \"unknown-unknown-unknown\"\n",
      "\n",
      "; Function Attrs: norecurse nounwind readnone\n",
      "define i32 @count_number(i32 %N) local_unnamed_addr #0 {\n",
      "entry:\n",
      "  %.71 = icmp sgt i32 %N, 0\n",
      "  br i1 %.71, label %loop.body.preheader, label %loop.end\n",
      "\n",
      "loop.body.preheader:                              ; preds = %entry\n",
      "  %0 = add nsw i32 %N, -1\n",
      "  %1 = zext i32 %0 to i33\n",
      "  %2 = add nsw i32 %N, -2\n",
      "  %3 = zext i32 %2 to i33\n",
      "  %4 = mul i33 %1, %3\n",
      "  %5 = lshr i33 %4, 1\n",
      "  %6 = trunc i33 %5 to i32\n",
      "  %7 = add i32 %6, %N\n",
      "  %8 = add i32 %7, -1\n",
      "  br label %loop.end\n",
      "\n",
      "loop.end:                                         ; preds = %loop.body.preheader, %entry\n",
      "  %out.0.lcssa = phi i32 [ 0, %entry ], [ %8, %loop.body.preheader ]\n",
      "  ret i32 %out.0.lcssa\n",
      "}\n",
      "\n",
      "attributes #0 = { norecurse nounwind readnone }\n",
      "\n"
     ]
    }
   ],
   "source": [
    "# materialize a LLVM module\n",
    "mod = llvm.parse_assembly(str(m))\n",
    "\n",
    "# create optimizer\n",
    "pm = llvm.create_module_pass_manager()\n",
    "pmb = llvm.create_pass_manager_builder()\n",
    "pmb.opt_level = 3  # -O3\n",
    "pmb.populate(pm)\n",
    "\n",
    "# optimize\n",
    "pm.run(mod)\n",
    "\n",
    "print(mod)"
   ]
  },
  {
   "cell_type": "markdown",
   "metadata": {},
   "source": [
    "## Visualize optimized control-flow graph"
   ]
  },
  {
   "cell_type": "code",
   "execution_count": 14,
   "metadata": {},
   "outputs": [
    {
     "data": {
      "image/svg+xml": [
       "<svg height=\"408pt\" viewBox=\"0.00 0.00 503.00 408.00\" width=\"503pt\" xmlns=\"http://www.w3.org/2000/svg\" xmlns:xlink=\"http://www.w3.org/1999/xlink\">\n",
       "<g class=\"graph\" id=\"graph0\" transform=\"scale(1 1) rotate(0) translate(4 404)\">\n",
       "<title>CFG for 'count_number' function</title>\n",
       "<polygon fill=\"#ffffff\" points=\"-4,4 -4,-404 499,-404 499,4 -4,4\" stroke=\"transparent\"/>\n",
       "<text fill=\"#000000\" font-family=\"Times,serif\" font-size=\"14.00\" text-anchor=\"middle\" x=\"247.5\" y=\"-7.8\">CFG for 'count_number' function</text>\n",
       "<!-- Node0x160cb00 -->\n",
       "<g class=\"node\" id=\"node1\">\n",
       "<title>Node0x160cb00</title>\n",
       "<polygon fill=\"none\" points=\"36,-323.5 36,-399.5 459,-399.5 459,-323.5 36,-323.5\" stroke=\"#000000\"/>\n",
       "<text fill=\"#000000\" font-family=\"Times,serif\" font-size=\"14.00\" text-anchor=\"start\" x=\"44\" y=\"-384.3\">entry:</text>\n",
       "<text fill=\"#000000\" font-family=\"Times,serif\" font-size=\"14.00\" text-anchor=\"start\" x=\"44\" y=\"-369.3\"> %.71 = icmp sgt i32 %N, 0</text>\n",
       "<text fill=\"#000000\" font-family=\"Times,serif\" font-size=\"14.00\" text-anchor=\"start\" x=\"44\" y=\"-354.3\"> br i1 %.71, label %loop.body.preheader, label %loop.end</text>\n",
       "<polyline fill=\"none\" points=\"36,-346.5 459,-346.5 \" stroke=\"#000000\"/>\n",
       "<text fill=\"#000000\" font-family=\"Times,serif\" font-size=\"14.00\" text-anchor=\"middle\" x=\"141.5\" y=\"-331.3\">T</text>\n",
       "<polyline fill=\"none\" points=\"247,-323.5 247,-346.5 \" stroke=\"#000000\"/>\n",
       "<text fill=\"#000000\" font-family=\"Times,serif\" font-size=\"14.00\" text-anchor=\"middle\" x=\"353\" y=\"-331.3\">F</text>\n",
       "</g>\n",
       "<!-- Node0x16887b0 -->\n",
       "<g class=\"node\" id=\"node2\">\n",
       "<title>Node0x16887b0</title>\n",
       "<polygon fill=\"none\" points=\"81,-113.5 81,-286.5 284,-286.5 284,-113.5 81,-113.5\" stroke=\"#000000\"/>\n",
       "<text fill=\"#000000\" font-family=\"Times,serif\" font-size=\"14.00\" text-anchor=\"start\" x=\"89\" y=\"-271.3\">loop.body.preheader: </text>\n",
       "<text fill=\"#000000\" font-family=\"Times,serif\" font-size=\"14.00\" text-anchor=\"start\" x=\"89\" y=\"-256.3\"> %0 = add nsw i32 %N, -1</text>\n",
       "<text fill=\"#000000\" font-family=\"Times,serif\" font-size=\"14.00\" text-anchor=\"start\" x=\"89\" y=\"-241.3\"> %1 = zext i32 %0 to i33</text>\n",
       "<text fill=\"#000000\" font-family=\"Times,serif\" font-size=\"14.00\" text-anchor=\"start\" x=\"89\" y=\"-226.3\"> %2 = add nsw i32 %N, -2</text>\n",
       "<text fill=\"#000000\" font-family=\"Times,serif\" font-size=\"14.00\" text-anchor=\"start\" x=\"89\" y=\"-211.3\"> %3 = zext i32 %2 to i33</text>\n",
       "<text fill=\"#000000\" font-family=\"Times,serif\" font-size=\"14.00\" text-anchor=\"start\" x=\"89\" y=\"-196.3\"> %4 = mul i33 %1, %3</text>\n",
       "<text fill=\"#000000\" font-family=\"Times,serif\" font-size=\"14.00\" text-anchor=\"start\" x=\"89\" y=\"-181.3\"> %5 = lshr i33 %4, 1</text>\n",
       "<text fill=\"#000000\" font-family=\"Times,serif\" font-size=\"14.00\" text-anchor=\"start\" x=\"89\" y=\"-166.3\"> %6 = trunc i33 %5 to i32</text>\n",
       "<text fill=\"#000000\" font-family=\"Times,serif\" font-size=\"14.00\" text-anchor=\"start\" x=\"89\" y=\"-151.3\"> %7 = add i32 %6, %N</text>\n",
       "<text fill=\"#000000\" font-family=\"Times,serif\" font-size=\"14.00\" text-anchor=\"start\" x=\"89\" y=\"-136.3\"> %8 = add i32 %7, -1</text>\n",
       "<text fill=\"#000000\" font-family=\"Times,serif\" font-size=\"14.00\" text-anchor=\"start\" x=\"89\" y=\"-121.3\"> br label %loop.end</text>\n",
       "</g>\n",
       "<!-- Node0x160cb00&#45;&gt;Node0x16887b0 -->\n",
       "<g class=\"edge\" id=\"edge1\">\n",
       "<title>Node0x160cb00:s0-&gt;Node0x16887b0</title>\n",
       "<path d=\"M141.5,-323.5C141.5,-314.541 142.4838,-305.3941 144.1467,-296.3325\" fill=\"none\" stroke=\"#000000\"/>\n",
       "<polygon fill=\"#000000\" points=\"147.5719,-297.0521 146.2032,-286.5461 140.7215,-295.6125 147.5719,-297.0521\" stroke=\"#000000\"/>\n",
       "</g>\n",
       "<!-- Node0x160f170 -->\n",
       "<g class=\"node\" id=\"node3\">\n",
       "<title>Node0x160f170</title>\n",
       "<polygon fill=\"none\" points=\"0,-23.5 0,-76.5 495,-76.5 495,-23.5 0,-23.5\" stroke=\"#000000\"/>\n",
       "<text fill=\"#000000\" font-family=\"Times,serif\" font-size=\"14.00\" text-anchor=\"start\" x=\"8\" y=\"-61.3\">loop.end: </text>\n",
       "<text fill=\"#000000\" font-family=\"Times,serif\" font-size=\"14.00\" text-anchor=\"start\" x=\"8\" y=\"-46.3\"> %out.0.lcssa = phi i32 [ 0, %entry ], [ %8, %loop.body.preheader ]</text>\n",
       "<text fill=\"#000000\" font-family=\"Times,serif\" font-size=\"14.00\" text-anchor=\"start\" x=\"8\" y=\"-31.3\"> ret i32 %out.0.lcssa</text>\n",
       "</g>\n",
       "<!-- Node0x160cb00&#45;&gt;Node0x160f170 -->\n",
       "<g class=\"edge\" id=\"edge2\">\n",
       "<title>Node0x160cb00:s1-&gt;Node0x160f170</title>\n",
       "<path d=\"M353.5,-323.5C353.5,-226.0954 334.9689,-200.6587 292.5,-113 287.8369,-103.375 281.7251,-93.6468 275.5157,-84.8096\" fill=\"none\" stroke=\"#000000\"/>\n",
       "<polygon fill=\"#000000\" points=\"278.2885,-82.6715 269.5766,-76.6421 272.6271,-86.7883 278.2885,-82.6715\" stroke=\"#000000\"/>\n",
       "</g>\n",
       "<!-- Node0x16887b0&#45;&gt;Node0x160f170 -->\n",
       "<g class=\"edge\" id=\"edge3\">\n",
       "<title>Node0x16887b0-&gt;Node0x160f170</title>\n",
       "<path d=\"M220.1225,-113.1788C224.239,-103.6791 228.2431,-94.439 231.8615,-86.0889\" fill=\"none\" stroke=\"#000000\"/>\n",
       "<polygon fill=\"#000000\" points=\"235.1509,-87.3004 235.9156,-76.7332 228.728,-84.5171 235.1509,-87.3004\" stroke=\"#000000\"/>\n",
       "</g>\n",
       "</g>\n",
       "</svg>"
      ],
      "text/plain": [
       "<IPython.core.display.SVG object>"
      ]
     },
     "execution_count": 14,
     "metadata": {},
     "output_type": "execute_result"
    }
   ],
   "source": [
    "dot = llvm.get_function_cfg(mod.get_function(fn.name))\n",
    "llvm.view_dot_graph(dot)"
   ]
  },
  {
   "cell_type": "code",
   "execution_count": null,
   "metadata": {},
   "outputs": [],
   "source": []
  }
 ],
 "metadata": {
  "kernelspec": {
   "display_name": "Python 3",
   "language": "python",
   "name": "python3"
  },
  "language_info": {
   "codemirror_mode": {
    "name": "ipython",
    "version": 3
   },
   "file_extension": ".py",
   "mimetype": "text/x-python",
   "name": "python",
   "nbconvert_exporter": "python",
   "pygments_lexer": "ipython3",
   "version": "3.6.9"
  }
 },
 "nbformat": 4,
 "nbformat_minor": 2
}
